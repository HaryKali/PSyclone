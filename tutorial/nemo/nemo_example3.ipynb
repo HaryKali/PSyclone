{
 "cells": [
  {
   "cell_type": "markdown",
   "metadata": {},
   "source": [
    "# PSyclone tutorial: NEMO API Example 3"
   ]
  },
  {
   "cell_type": "markdown",
   "metadata": {},
   "source": [
    "This example shows how\n",
    "\n",
    "Let's continue with the code introduced in example 2 and create a schedule from it."
   ]
  },
  {
   "cell_type": "code",
   "execution_count": null,
   "metadata": {},
   "outputs": [],
   "source": [
    "code = '''program test\n",
    "  implicit none\n",
    "  integer, parameter :: jpi=10, jpj=10, jpk=10\n",
    "  real, dimension(jpi,jpj,jpk) :: a,b\n",
    "  integer :: ji,jj,jk\n",
    "  call timer_start()\n",
    "  do jk=1,jpk\n",
    "    do jj=1,jpj\n",
    "      do ji=1,jpi\n",
    "        b(ji,jj,jk) = 0.0\n",
    "      end do\n",
    "    end do\n",
    "  end do\n",
    "  do jk=1,jpk\n",
    "    do jj=1,jpj\n",
    "      do ji=1,jpi\n",
    "        a(ji,jj,jk) = b(ji,jj,jk)\n",
    "      end do\n",
    "    end do\n",
    "  end do\n",
    "  call timer_end()\n",
    "  write (6,*) \"HELLO\"\n",
    "end program test'''"
   ]
  },
  {
   "cell_type": "code",
   "execution_count": null,
   "metadata": {},
   "outputs": [],
   "source": [
    "from fparser.common.readfortran import FortranStringReader\n",
    "reader = FortranStringReader(code)\n",
    "from fparser.two.parser import ParserFactory\n",
    "parser = ParserFactory().create(std=\"f2003\")\n",
    "parse_tree = parser(reader)\n",
    "\n",
    "from psyclone.psyGen import PSyFactory\n",
    "psy = PSyFactory(\"nemo\").create(parse_tree)\n",
    "\n",
    "invoke = psy.invokes.invoke_list[0]\n",
    "schedule = invoke.schedule\n",
    "\n",
    "schedule.view()"
   ]
  },
  {
   "cell_type": "markdown",
   "metadata": {},
   "source": [
    "Transformations: loop fuse? OpenMP, OpenACC"
   ]
  },
  {
   "cell_type": "code",
   "execution_count": null,
   "metadata": {},
   "outputs": [],
   "source": [
    "from psyclone.transformations import OMPParallelLoopTrans\n",
    "from psyclone.nemo import NemoKern\n",
    "omp_trans = OMPParallelLoopTrans()\n",
    "for loop in schedule.loops():\n",
    "    kernels = loop.walk(NemoKern)\n",
    "    if kernels and loop.loop_type == \"lat\":\n",
    "        omp_trans.apply(loop)"
   ]
  },
  {
   "cell_type": "code",
   "execution_count": null,
   "metadata": {},
   "outputs": [],
   "source": [
    "schedule.view()"
   ]
  },
  {
   "cell_type": "code",
   "execution_count": null,
   "metadata": {},
   "outputs": [],
   "source": [
    "print psy.gen"
   ]
  },
  {
   "cell_type": "markdown",
   "metadata": {},
   "source": [
    "Let's move on to the [next example](example4.ipynb)"
   ]
  }
 ],
 "metadata": {
  "kernelspec": {
   "display_name": "Python 2",
   "language": "python",
   "name": "python2"
  },
  "language_info": {
   "codemirror_mode": {
    "name": "ipython",
    "version": 2
   },
   "file_extension": ".py",
   "mimetype": "text/x-python",
   "name": "python",
   "nbconvert_exporter": "python",
   "pygments_lexer": "ipython2",
   "version": "2.7.15+"
  }
 },
 "nbformat": 4,
 "nbformat_minor": 2
}
